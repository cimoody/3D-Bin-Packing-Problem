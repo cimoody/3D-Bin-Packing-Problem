{
 "cells": [
  {
   "cell_type": "markdown",
   "metadata": {},
   "source": [
    "# Rendering the bin and boxes from the evaluation packing."
   ]
  },
  {
   "cell_type": "code",
   "execution_count": 1,
   "metadata": {},
   "outputs": [],
   "source": [
    "# Libraries\n",
    "import numpy as np\n",
    "import time\n",
    "\n",
    "from mpl_toolkits.mplot3d import Axes3D\n",
    "from mpl_toolkits.mplot3d.art3d import Poly3DCollection\n",
    "import numpy as np\n",
    "import matplotlib.pyplot as plt\n",
    "from random import randint, seed\n",
    "%matplotlib inline  \n",
    "# %matplotlib notebook\n",
    "\n",
    "seed(42)"
   ]
  },
  {
   "cell_type": "code",
   "execution_count": 2,
   "metadata": {},
   "outputs": [],
   "source": [
    "# Default evaluation with boxes of different sizes\n",
    "# eval_data_path = '../logs/evaluation/SqBinEval_acktr_01k-2022.08.20-22-58-36/trajs.npy'\n"
   ]
  },
  {
   "cell_type": "markdown",
   "metadata": {},
   "source": [
    "Extract the box data from the evaluation file"
   ]
  },
  {
   "cell_type": "code",
   "execution_count": 3,
   "metadata": {},
   "outputs": [],
   "source": [
    "def renderBoxData(eval_data_path, case = -1):\n",
    "        eval_data_full = np.load(eval_data_path, allow_pickle=True)\n",
    "        eval_data = eval_data_full[case]\n",
    "        position = []\n",
    "        opp_corner = []\n",
    "        box_size = []\n",
    "        den = []\n",
    "        for i in range(len(eval_data)):\n",
    "            box_size.append((eval_data[i][0],\n",
    "                             eval_data[i][1],\n",
    "                             eval_data[i][2]))\n",
    "            position.append((eval_data[i][3],\n",
    "                               eval_data[i][4],\n",
    "                               eval_data[i][5]))\n",
    "            opp_corner.append((eval_data[i][3] + eval_data[i][0],\n",
    "                             eval_data[i][4] + eval_data[i][1],\n",
    "                             eval_data[i][5] + eval_data[i][2]))\n",
    "            den.append((eval_data[i][-1]))\n",
    "        \n",
    "        return position, box_size, opp_corner, den"
   ]
  },
  {
   "cell_type": "markdown",
   "metadata": {},
   "source": [
    "[Code to plots cuboids in matplotlib](https://stackoverflow.com/questions/49277753/python-matplotlib-plotting-cuboids)"
   ]
  },
  {
   "cell_type": "code",
   "execution_count": 4,
   "metadata": {},
   "outputs": [],
   "source": [
    "# Edited from https://stackoverflow.com/questions/49277753/python-matplotlib-plotting-cuboids\n",
    "def cuboid_data2(o, size=(1,1,1)):\n",
    "    X = [[[0, 1, 0], [0, 0, 0], [1, 0, 0], [1, 1, 0]],\n",
    "         [[0, 0, 0], [0, 0, 1], [1, 0, 1], [1, 0, 0]],\n",
    "         [[1, 0, 1], [1, 0, 0], [1, 1, 0], [1, 1, 1]],\n",
    "         [[0, 0, 1], [0, 0, 0], [0, 1, 0], [0, 1, 1]],\n",
    "         [[0, 1, 0], [0, 1, 1], [1, 1, 1], [1, 1, 0]],\n",
    "         [[0, 1, 1], [0, 0, 1], [1, 0, 1], [1, 1, 1]]]\n",
    "    X = np.array(X).astype(float)\n",
    "    for i in range(3):\n",
    "        X[:,:,i] *= size[i]\n",
    "    X += np.array(o)\n",
    "    return X\n",
    "\n",
    "def plotCubeAt2(positions,sizes=None,colors=None, **kwargs):\n",
    "    if not isinstance(colors,(list,np.ndarray)): colors=[\"C0\"]*len(positions)\n",
    "    if not isinstance(sizes,(list,np.ndarray)): sizes=[(1,1,1)]*len(positions)\n",
    "    g = []\n",
    "    for p,s,c in zip(positions,sizes,colors):\n",
    "        g.append( cuboid_data2(p, size=s) )\n",
    "    return Poly3DCollection(np.concatenate(g),  \n",
    "                            facecolors=np.repeat(colors,6), **kwargs)"
   ]
  },
  {
   "cell_type": "code",
   "execution_count": 17,
   "metadata": {},
   "outputs": [],
   "source": [
    "def renderBin(eval_data_path, sqbin = True, pn = 3, case = -1):\n",
    "    xsize = 10\n",
    "    if sqbin == False: xsize = 20\n",
    "    position, box_size, opp_corner, den = renderBoxData(eval_data_path, case)\n",
    "    # colors from https://datascientyst.com/get-list-of-n-different-colors-names-python-pandas/\n",
    "    color = []\n",
    "    for i in range(len(position)):\n",
    "        color.append('#%06X' % randint(0, 0xFFFFFF))\n",
    "    # plotting data\n",
    "    for i in range(len(position)):\n",
    "        positions = position[:i+1]\n",
    "        sizes = box_size[:i+1]\n",
    "        colors = color[:i+1]    \n",
    "        # plots\n",
    "        fig = plt.figure()\n",
    "        ax = fig.gca(projection='3d')\n",
    "        ax.set_aspect('auto')\n",
    "        ax.apply_aspect(position=None)  \n",
    "\n",
    "        pc = plotCubeAt2(positions,sizes,colors=colors, edgecolor=\"k\")\n",
    "        ax.add_collection3d(pc) \n",
    "        \n",
    "        \n",
    "\n",
    "        ax.set_xlim([0,xsize])\n",
    "        ax.set_ylim([0,10])\n",
    "        ax.set_zlim([0,10])\n",
    "\n",
    "        ax.set_xlabel('X ')\n",
    "        ax.set_ylabel('Y ')\n",
    "        ax.set_zlabel('Z ')\n",
    "        \n",
    "        ax.set_title(f\"Number of Boxes {i+1}\")\n",
    "\n",
    "        fig1 = plt.gcf()\n",
    "        plt.show()\n",
    "        plt.draw()\n",
    "        fig1.savefig(f\"PackedBoxes_{i+1:03d}.jpg\")\n",
    "        plt.show()\n",
    "        \n",
    "    return(len(position))"
   ]
  }
 ],
 "metadata": {
  "kernelspec": {
   "display_name": "Python 3 (ipykernel)",
   "language": "python",
   "name": "python3"
  },
  "language_info": {
   "codemirror_mode": {
    "name": "ipython",
    "version": 3
   },
   "file_extension": ".py",
   "mimetype": "text/x-python",
   "name": "python",
   "nbconvert_exporter": "python",
   "pygments_lexer": "ipython3",
   "version": "3.9.13"
  },
  "vscode": {
   "interpreter": {
    "hash": "eee8ed686bcbc781e222dfc96537b07e0d5ab3bf223cdb9ce9a378156f7cbcdf"
   }
  }
 },
 "nbformat": 4,
 "nbformat_minor": 2
}
